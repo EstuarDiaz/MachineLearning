{
 "cells": [
  {
   "cell_type": "markdown",
   "metadata": {},
   "source": [
    "# 01. Introducción al modelo de aprendizaje PAC"
   ]
  },
  {
   "cell_type": "code",
   "execution_count": 59,
   "metadata": {},
   "outputs": [],
   "source": [
    "import numpy as np\n",
    "import matplotlib.pyplot as plt"
   ]
  },
  {
   "cell_type": "code",
   "execution_count": 97,
   "metadata": {},
   "outputs": [],
   "source": [
    "# Obtener una muestra de m elementos\n",
    "def getSample(m):\n",
    "    S = []\n",
    "    for i in range(m):\n",
    "        S.append(np.asarray(np.random.uniform(0,2,2)))\n",
    "    return S"
   ]
  },
  {
   "cell_type": "code",
   "execution_count": 98,
   "metadata": {},
   "outputs": [],
   "source": [
    "# Obtener la parametrizacion de la clase de hipotesis\n",
    "def getHypothesisClass(l):\n",
    "    return np.linspace(0,1,round(1/l))"
   ]
  },
  {
   "cell_type": "code",
   "execution_count": 131,
   "metadata": {},
   "outputs": [],
   "source": [
    "# Error empirico\n",
    "def Ls(h,S):\n",
    "    error = 0\n",
    "    d = 1/np.sqrt(2)\n",
    "    for i in range(len(S)):\n",
    "        # Si h lo calsifica como elemento de X1\n",
    "        inX0 = ((S[i][0] < 1-d) or (S[i][1] < 1-d) or (S[i][0] > 1+d) or (S[i][1] > 1+d)) \n",
    "        if ((S[i][0] > h) and (S[i][1] > h) and (S[i][0] < 2-h) and (S[i][1] < 2-h)):\n",
    "            # Y no pertenece a X1\n",
    "            if inX0:\n",
    "                error = error+1\n",
    "        # Si h lo clasifica como elemento de X0\n",
    "        else:\n",
    "            # Pero no pertenece a X0\n",
    "            if !inX0:\n",
    "                error = error+1\n",
    "    return error/len(S)"
   ]
  },
  {
   "cell_type": "code",
   "execution_count": 132,
   "metadata": {},
   "outputs": [],
   "source": [
    "# Error de generalizacion\n",
    "def LD(h):\n",
    "    lim = 1-1/np.sqrt(2)\n",
    "    if h < lim:\n",
    "        return 1/2-2*h+h**2\n",
    "    elif h > lim:\n",
    "        return -1/2+2*h-h**2\n",
    "    else:\n",
    "        return 0"
   ]
  },
  {
   "cell_type": "code",
   "execution_count": 133,
   "metadata": {},
   "outputs": [],
   "source": [
    "# Obtener una hipotesis que minimize el error empirico\n",
    "def ERM(H,S):\n",
    "    min_error = 1\n",
    "    EMRh = 0\n",
    "    for h in np.nditer(H):\n",
    "        Ls_error = Ls(h,S) \n",
    "        if Ls_error < min_error:\n",
    "            min_error = Ls_error\n",
    "            EMRh = h\n",
    "    return EMRh"
   ]
  },
  {
   "cell_type": "code",
   "execution_count": 134,
   "metadata": {},
   "outputs": [],
   "source": [
    "# Parametros\n",
    "epsilon = 0.01\n",
    "delta = 0.05\n",
    "# Crear la clase de hipotesis finita\n",
    "H = getHypothesisClass(0.01)\n",
    "# Calcular la complejidad de la muestra\n",
    "m_H = round(np.log(len(H)/delta)/epsilon)    "
   ]
  },
  {
   "cell_type": "code",
   "execution_count": null,
   "metadata": {},
   "outputs": [],
   "source": [
    "m_H = 10"
   ]
  },
  {
   "cell_type": "code",
   "execution_count": 140,
   "metadata": {},
   "outputs": [],
   "source": [
    "# Iterar para varios tamanos de muestra\n",
    "# Graficar los puntos de entrenamiento\n",
    "# Graficar los errores de generalizacion y empirico de cada hipotesis\n",
    "# Graficar el rectangulo hS resultante\n",
    "m = 0\n",
    "i = 0\n",
    "while m < m_H:\n",
    "    m = round(np.exp(i))\n",
    "    i = i + 0.5\n",
    "    S = getSample(int(m))\n",
    "    for h in np.nditer(H):\n",
    "        myLs = Ls(h,S)\n",
    "        myLD = LD(h)\n",
    "    hS = ERM(H,S)"
   ]
  },
  {
   "cell_type": "code",
   "execution_count": null,
   "metadata": {},
   "outputs": [],
   "source": [
    "# Iterar varias veces para varios tamanos de muestra\n",
    "# Graficar un histograma del error\n",
    "m = 0\n",
    "i = 0\n",
    "n = 5\n",
    "while m < m_H:\n",
    "    m = round(np.exp(i))\n",
    "    i = i + 0.5\n",
    "    for n in range(n):\n",
    "        S = getSample(int(m))\n",
    "        hS = ERM(H,S)\n",
    "        myLD = LD(hS)"
   ]
  }
 ],
 "metadata": {
  "kernelspec": {
   "display_name": "Python 3",
   "language": "python",
   "name": "python3"
  },
  "language_info": {
   "codemirror_mode": {
    "name": "ipython",
    "version": 3
   },
   "file_extension": ".py",
   "mimetype": "text/x-python",
   "name": "python",
   "nbconvert_exporter": "python",
   "pygments_lexer": "ipython3",
   "version": "3.6.5"
  }
 },
 "nbformat": 4,
 "nbformat_minor": 2
}
